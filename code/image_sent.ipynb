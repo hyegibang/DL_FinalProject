{
 "cells": [
  {
   "cell_type": "code",
   "execution_count": 145,
   "metadata": {},
   "outputs": [
    {
     "name": "stdout",
     "output_type": "stream",
     "text": [
      "2.7.0\n"
     ]
    }
   ],
   "source": [
    "import imageParse as imgP\n",
    "import imageSent as imgS\n",
    "import numpy as np\n",
    "import pandas as pd\n",
    "import tensorflow as tf\n",
    "\n",
    "print(tf.__version__)"
   ]
  },
  {
   "cell_type": "code",
   "execution_count": 166,
   "metadata": {},
   "outputs": [],
   "source": [
    "tf.config.run_functions_eagerly(False)"
   ]
  },
  {
   "cell_type": "code",
   "execution_count": 159,
   "metadata": {},
   "outputs": [],
   "source": [
    "tf.data.experimental.enable_debug_mode()"
   ]
  },
  {
   "cell_type": "code",
   "execution_count": 160,
   "metadata": {},
   "outputs": [
    {
     "name": "stdout",
     "output_type": "stream",
     "text": [
      "The autoreload extension is already loaded. To reload it, use:\n",
      "  %reload_ext autoreload\n"
     ]
    }
   ],
   "source": [
    "%load_ext autoreload\n",
    "%autoreload 2"
   ]
  },
  {
   "cell_type": "code",
   "execution_count": 161,
   "metadata": {},
   "outputs": [
    {
     "name": "stdout",
     "output_type": "stream",
     "text": [
      "(224, 255, 255, 3)\n",
      "(56, 255, 255, 3)\n"
     ]
    }
   ],
   "source": [
    "abs_X0, abs_Y0, abs_X1, abs_Y1 = imgP.parseData_Abs()\n",
    "print(abs_X0.shape)\n",
    "print(abs_X1.shape)"
   ]
  },
  {
   "cell_type": "code",
   "execution_count": 162,
   "metadata": {},
   "outputs": [
    {
     "name": "stdout",
     "output_type": "stream",
     "text": [
      "(224, 32, 32, 3)\n",
      "(56, 32, 32, 3)\n"
     ]
    }
   ],
   "source": [
    "abs_X0 = imgP.input_prep_fn(abs_X0)\n",
    "abs_X1 = imgP.input_prep_fn(abs_X1)\n",
    "print(abs_X0.shape)\n",
    "print(abs_X1.shape)"
   ]
  },
  {
   "cell_type": "code",
   "execution_count": 167,
   "metadata": {},
   "outputs": [
    {
     "name": "stdout",
     "output_type": "stream",
     "text": [
      "(644, 255, 255, 3)\n",
      "(161, 255, 255, 3)\n"
     ]
    }
   ],
   "source": [
    "art_X0, art_Y0, art_X1, art_Y1 = imgP.parseData_Art()\n",
    "print(art_X0.shape)\n",
    "print(art_X1.shape)"
   ]
  },
  {
   "cell_type": "code",
   "execution_count": 168,
   "metadata": {},
   "outputs": [
    {
     "name": "stdout",
     "output_type": "stream",
     "text": [
      "(644, 32, 32, 3)\n",
      "(161, 32, 32, 3)\n"
     ]
    }
   ],
   "source": [
    "art_X0 = imgP.input_prep_fn(art_X0)\n",
    "art_X1 = imgP.input_prep_fn(art_X1)\n",
    "print(art_X0.shape)\n",
    "print(art_X1.shape)"
   ]
  },
  {
   "cell_type": "code",
   "execution_count": 169,
   "metadata": {},
   "outputs": [],
   "source": [
    "VAD_map = np.array([\n",
    "    [1,0.735,0.772], #0: 'happy'\n",
    "    [0.918,0.61,0.566], #1: 'funny'\n",
    "    [0.225,0.333,0.149], #2: 'sad'\n",
    "    [0.63,0.52,0.509], #3: 'tender'\n",
    "    [0.95,0.792,0.789], #4: 'exciting'\n",
    "    [0.122,0.83,0.604], #5: 'angry'\n",
    "    [0.062,0.952,0.528], #6: 'scary'\n",
    "])\n",
    "\n",
    "VAD_pd = pd.DataFrame(\n",
    "    columns = [\"valence\", \"arousal\", \"dominance\"], \n",
    "    data = VAD_map, \n",
    "    index = ['happy', 'funny', 'sad', 'tender', \n",
    "             'exciting', 'angry', 'scary'])"
   ]
  },
  {
   "cell_type": "code",
   "execution_count": 175,
   "metadata": {},
   "outputs": [
    {
     "name": "stdout",
     "output_type": "stream",
     "text": [
      "Model: \"abs\"\n",
      "_________________________________________________________________\n",
      " Layer (type)                Output Shape              Param #   \n",
      "=================================================================\n",
      " conv2d_48 (Conv2D)          multiple                  224       \n",
      "                                                                 \n",
      " conv2d_49 (Conv2D)          multiple                  1168      \n",
      "                                                                 \n",
      " conv2d_50 (Conv2D)          multiple                  4640      \n",
      "                                                                 \n",
      " max_pooling2d_18 (MaxPoolin  multiple                 0         \n",
      " g2D)                                                            \n",
      "                                                                 \n",
      " flatten_18 (Flatten)        multiple                  0         \n",
      "                                                                 \n",
      " dense_36 (Dense)            multiple                  491580    \n",
      "                                                                 \n",
      " dense_37 (Dense)            multiple                  183       \n",
      "                                                                 \n",
      "=================================================================\n",
      "Total params: 497,799\n",
      "Trainable params: 497,795\n",
      "Non-trainable params: 4\n",
      "_________________________________________________________________\n"
     ]
    }
   ],
   "source": [
    "abs_model = imgS.ImageSentModel(name='abs')\n",
    "abs_model((abs_X0[:5], abs_Y0[:5]))\n",
    "abs_model.summary()"
   ]
  },
  {
   "cell_type": "code",
   "execution_count": 176,
   "metadata": {},
   "outputs": [],
   "source": [
    "optimizer = tf.keras.optimizers.Adam(5e-3)\n",
    "abs_model.compile(optimizer=optimizer, VAD_map=VAD_map)"
   ]
  },
  {
   "cell_type": "code",
   "execution_count": 177,
   "metadata": {},
   "outputs": [],
   "source": [
    "abs_Y0_VAD = VAD_pd.loc[abs_Y0]\n",
    "abs_X0 = abs_X0 + tf.random.normal(abs_X0.shape, mean = 0, stddev = 0.05, dtype = tf.float32)"
   ]
  },
  {
   "cell_type": "code",
   "execution_count": 178,
   "metadata": {},
   "outputs": [
    {
     "name": "stdout",
     "output_type": "stream",
     "text": [
      "Epoch 1/5\n",
      "28/28 [==============================] - 1s 12ms/step - mse_loss: 0.1960 - acc: 0.1339\n",
      "Epoch 2/5\n",
      "28/28 [==============================] - 0s 14ms/step - mse_loss: 0.1994 - acc: 0.1339\n",
      "Epoch 3/5\n",
      "28/28 [==============================] - 0s 11ms/step - mse_loss: 0.1994 - acc: 0.1339\n",
      "Epoch 4/5\n",
      "28/28 [==============================] - 0s 11ms/step - mse_loss: 0.1994 - acc: 0.1339\n",
      "Epoch 5/5\n",
      "28/28 [==============================] - 0s 11ms/step - mse_loss: 0.1994 - acc: 0.1339\n"
     ]
    }
   ],
   "source": [
    "abs_model.fit(\n",
    "    (abs_X0, abs_Y0_VAD), abs_Y0_VAD,\n",
    "    epochs     = 5,\n",
    "    batch_size = 8,\n",
    ");"
   ]
  },
  {
   "cell_type": "code",
   "execution_count": 183,
   "metadata": {},
   "outputs": [
    {
     "name": "stdout",
     "output_type": "stream",
     "text": [
      "(56, 3)\n"
     ]
    }
   ],
   "source": [
    "abs_Y1_VAD = VAD_pd.loc[abs_Y1]\n",
    "print(abs_Y1_VAD.shape)"
   ]
  },
  {
   "cell_type": "code",
   "execution_count": 188,
   "metadata": {},
   "outputs": [
    {
     "name": "stdout",
     "output_type": "stream",
     "text": [
      "7/7 [==============================] - 0s 4ms/step - mse_loss: 0.2292 - acc: 0.0714\n"
     ]
    }
   ],
   "source": [
    "abs_model.evaluate(\n",
    "    (abs_X1, abs_Y1_VAD), abs_Y1_VAD,\n",
    "    batch_size = 8,\n",
    ");"
   ]
  },
  {
   "cell_type": "code",
   "execution_count": 189,
   "metadata": {},
   "outputs": [
    {
     "name": "stdout",
     "output_type": "stream",
     "text": [
      "Model: \"art\"\n",
      "_________________________________________________________________\n",
      " Layer (type)                Output Shape              Param #   \n",
      "=================================================================\n",
      " conv2d_51 (Conv2D)          multiple                  224       \n",
      "                                                                 \n",
      " conv2d_52 (Conv2D)          multiple                  1168      \n",
      "                                                                 \n",
      " conv2d_53 (Conv2D)          multiple                  4640      \n",
      "                                                                 \n",
      " max_pooling2d_19 (MaxPoolin  multiple                 0         \n",
      " g2D)                                                            \n",
      "                                                                 \n",
      " flatten_19 (Flatten)        multiple                  0         \n",
      "                                                                 \n",
      " dense_38 (Dense)            multiple                  491580    \n",
      "                                                                 \n",
      " dense_39 (Dense)            multiple                  183       \n",
      "                                                                 \n",
      "=================================================================\n",
      "Total params: 497,799\n",
      "Trainable params: 497,795\n",
      "Non-trainable params: 4\n",
      "_________________________________________________________________\n"
     ]
    }
   ],
   "source": [
    "art_model = imgS.ImageSentModel(name='art')\n",
    "art_model((art_X0[:5], art_Y0[:5]))\n",
    "art_model.summary()"
   ]
  },
  {
   "cell_type": "code",
   "execution_count": 190,
   "metadata": {},
   "outputs": [],
   "source": [
    "art_model.compile(optimizer=optimizer, VAD_map=VAD_map)"
   ]
  },
  {
   "cell_type": "code",
   "execution_count": 191,
   "metadata": {},
   "outputs": [],
   "source": [
    "art_Y0_VAD = VAD_pd.loc[art_Y0]\n",
    "art_X0 = art_X0 + tf.random.normal(art_X0.shape, mean = 0, stddev = 0.05, dtype = tf.float32)"
   ]
  },
  {
   "cell_type": "code",
   "execution_count": 192,
   "metadata": {},
   "outputs": [
    {
     "name": "stdout",
     "output_type": "stream",
     "text": [
      "Epoch 1/5\n",
      "2\n",
      "2\n",
      "81/81 [==============================] - 2s 12ms/step - mse_loss: 0.2933 - acc: 0.1265\n",
      "Epoch 2/5\n",
      "81/81 [==============================] - 1s 11ms/step - mse_loss: 0.2953 - acc: 0.1281\n",
      "Epoch 3/5\n",
      "81/81 [==============================] - 1s 12ms/step - mse_loss: 0.2955 - acc: 0.1265\n",
      "Epoch 4/5\n",
      "81/81 [==============================] - 1s 12ms/step - mse_loss: 0.2953 - acc: 0.1265\n",
      "Epoch 5/5\n",
      "81/81 [==============================] - 1s 16ms/step - mse_loss: 0.2956 - acc: 0.1296\n"
     ]
    }
   ],
   "source": [
    "art_model.fit(\n",
    "    (art_X0, art_Y0_VAD), art_Y0_VAD,\n",
    "    epochs     = 5,\n",
    "    batch_size = 8,\n",
    ");"
   ]
  },
  {
   "cell_type": "code",
   "execution_count": 193,
   "metadata": {},
   "outputs": [
    {
     "name": "stdout",
     "output_type": "stream",
     "text": [
      "(161, 3)\n"
     ]
    }
   ],
   "source": [
    "art_Y1_VAD = VAD_pd.loc[art_Y1]\n",
    "print(art_Y1_VAD.shape)"
   ]
  },
  {
   "cell_type": "code",
   "execution_count": 194,
   "metadata": {},
   "outputs": [
    {
     "name": "stdout",
     "output_type": "stream",
     "text": [
      "21/21 [==============================] - 0s 4ms/step - mse_loss: 0.3028 - acc: 0.1131\n"
     ]
    }
   ],
   "source": [
    "art_model.evaluate(\n",
    "    (art_X1, art_Y1_VAD), art_Y1_VAD,\n",
    "    batch_size = 8,\n",
    ");"
   ]
  }
 ],
 "metadata": {
  "kernelspec": {
   "display_name": "Python 3.8 (dl3)",
   "language": "python",
   "name": "dl3"
  },
  "language_info": {
   "codemirror_mode": {
    "name": "ipython",
    "version": 3
   },
   "file_extension": ".py",
   "mimetype": "text/x-python",
   "name": "python",
   "nbconvert_exporter": "python",
   "pygments_lexer": "ipython3",
   "version": "3.9.13"
  },
  "vscode": {
   "interpreter": {
    "hash": "aee8b7b246df8f9039afb4144a1f6fd8d2ca17a180786b69acc140d282b71a49"
   }
  }
 },
 "nbformat": 4,
 "nbformat_minor": 2
}
