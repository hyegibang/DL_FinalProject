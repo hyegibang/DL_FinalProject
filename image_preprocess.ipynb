{
 "cells": [
  {
   "cell_type": "code",
   "execution_count": 38,
   "id": "1e06e2d8",
   "metadata": {},
   "outputs": [],
   "source": [
    "import imageParse as imgP"
   ]
  },
  {
   "cell_type": "code",
   "execution_count": 39,
   "id": "f5686a13",
   "metadata": {},
   "outputs": [
    {
     "name": "stdout",
     "output_type": "stream",
     "text": [
      "The autoreload extension is already loaded. To reload it, use:\n",
      "  %reload_ext autoreload\n"
     ]
    }
   ],
   "source": [
    "%load_ext autoreload\n",
    "%autoreload 2"
   ]
  },
  {
   "cell_type": "code",
   "execution_count": 43,
   "id": "e6370994",
   "metadata": {},
   "outputs": [],
   "source": [
    "%reload_ext autoreload"
   ]
  },
  {
   "cell_type": "code",
   "execution_count": 87,
   "id": "b5cd136f",
   "metadata": {},
   "outputs": [
    {
     "name": "stdout",
     "output_type": "stream",
     "text": [
      "280\n",
      "280\n"
     ]
    }
   ],
   "source": [
    "imageAbs, imageAbsLabel = imgP.parseData_Abstract()\n",
    "print(len(imageAbs))\n",
    "print(len(imageAbsLabel))"
   ]
  },
  {
   "cell_type": "code",
   "execution_count": 67,
   "id": "27272f74",
   "metadata": {},
   "outputs": [
    {
     "name": "stdout",
     "output_type": "stream",
     "text": [
      "806\n",
      "806\n"
     ]
    }
   ],
   "source": [
    "imageArt, imageArtLabel = imgP.parseData_Art()\n",
    "print(len(imageArt))\n",
    "print(len(imageArtLabel))"
   ]
  },
  {
   "cell_type": "code",
   "execution_count": null,
   "id": "30a14316",
   "metadata": {},
   "outputs": [],
   "source": []
  }
 ],
 "metadata": {
  "kernelspec": {
   "display_name": "Python 3.8 (tensorflow)",
   "language": "python",
   "name": "tensorflow"
  },
  "language_info": {
   "codemirror_mode": {
    "name": "ipython",
    "version": 3
   },
   "file_extension": ".py",
   "mimetype": "text/x-python",
   "name": "python",
   "nbconvert_exporter": "python",
   "pygments_lexer": "ipython3",
   "version": "3.8.13"
  }
 },
 "nbformat": 4,
 "nbformat_minor": 5
}
