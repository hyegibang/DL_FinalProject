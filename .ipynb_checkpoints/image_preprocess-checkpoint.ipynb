{
 "cells": [
  {
   "cell_type": "code",
   "execution_count": 2,
   "id": "1e06e2d8",
   "metadata": {},
   "outputs": [],
   "source": [
    "import imageParse as imgP"
   ]
  },
  {
   "cell_type": "code",
   "execution_count": 5,
   "id": "934af26e",
   "metadata": {},
   "outputs": [
    {
     "ename": "AttributeError",
     "evalue": "module 'imageParse' has no attribute 'parseData_Abstract'",
     "output_type": "error",
     "traceback": [
      "\u001b[0;31m---------------------------------------------------------------------------\u001b[0m",
      "\u001b[0;31mAttributeError\u001b[0m                            Traceback (most recent call last)",
      "Input \u001b[0;32mIn [5]\u001b[0m, in \u001b[0;36m<cell line: 1>\u001b[0;34m()\u001b[0m\n\u001b[0;32m----> 1\u001b[0m imageAbs \u001b[38;5;241m=\u001b[39m \u001b[43mimgP\u001b[49m\u001b[38;5;241;43m.\u001b[39;49m\u001b[43mparseData_Abstract\u001b[49m()\n\u001b[1;32m      2\u001b[0m \u001b[38;5;28mprint\u001b[39m(imageAbs)\n",
      "\u001b[0;31mAttributeError\u001b[0m: module 'imageParse' has no attribute 'parseData_Abstract'"
     ]
    }
   ],
   "source": [
    "imageAbs = imgP.parseData_Abstract()\n",
    "print(imageAbs)"
   ]
  },
  {
   "cell_type": "code",
   "execution_count": null,
   "id": "8e38e46f",
   "metadata": {},
   "outputs": [],
   "source": []
  }
 ],
 "metadata": {
  "kernelspec": {
   "display_name": "Python 3.8 (tensorflow)",
   "language": "python",
   "name": "tensorflow"
  },
  "language_info": {
   "codemirror_mode": {
    "name": "ipython",
    "version": 3
   },
   "file_extension": ".py",
   "mimetype": "text/x-python",
   "name": "python",
   "nbconvert_exporter": "python",
   "pygments_lexer": "ipython3",
   "version": "3.8.13"
  }
 },
 "nbformat": 4,
 "nbformat_minor": 5
}
